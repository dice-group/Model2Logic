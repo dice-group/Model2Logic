{
 "cells": [
  {
   "cell_type": "code",
   "execution_count": 1,
   "metadata": {},
   "outputs": [],
   "source": [
    "from sklearn.neural_network import MLPClassifier, MLPRegressor\n",
    "import pandas as pd\n",
    "import numpy as np\n",
    "from joblib import load, dump\n",
    "import csv as cv\n",
    "from math import exp"
   ]
  },
  {
   "cell_type": "code",
   "execution_count": 2,
   "metadata": {},
   "outputs": [
    {
     "name": "stderr",
     "output_type": "stream",
     "text": [
      "C:\\Users\\Arnab\\anaconda3\\lib\\site-packages\\sklearn\\neural_network\\_multilayer_perceptron.py:614: ConvergenceWarning: Stochastic Optimizer: Maximum iterations (200) reached and the optimization hasn't converged yet.\n",
      "  warnings.warn(\n"
     ]
    },
    {
     "data": {
      "text/plain": [
       "MLPRegressor(hidden_layer_sizes=2)"
      ]
     },
     "execution_count": 2,
     "metadata": {},
     "output_type": "execute_result"
    }
   ],
   "source": [
    "df = pd.read_csv('TestOracleRegression.csv')\n",
    "data = df.values\n",
    "X = data[:, :-1]\n",
    "y = data[:, -1]\n",
    "\n",
    "model = MLPRegressor(hidden_layer_sizes=(2))#2 idden layers with 2 neurons per layer\n",
    "model.fit(X, y)"
   ]
  },
  {
   "cell_type": "code",
   "execution_count": 3,
   "metadata": {},
   "outputs": [
    {
     "data": {
      "text/plain": [
       "['Model/dnn_model.joblib']"
      ]
     },
     "execution_count": 3,
     "metadata": {},
     "output_type": "execute_result"
    }
   ],
   "source": [
    "dump(model, 'Model/dnn_model.joblib')"
   ]
  },
  {
   "cell_type": "code",
   "execution_count": 171,
   "metadata": {},
   "outputs": [
    {
     "data": {
      "text/plain": [
       "array([-0.18909288])"
      ]
     },
     "execution_count": 171,
     "metadata": {},
     "output_type": "execute_result"
    }
   ],
   "source": [
    "model.predict([[1,1,1,1]])"
   ]
  },
  {
   "cell_type": "code",
   "execution_count": 4,
   "metadata": {},
   "outputs": [
    {
     "data": {
      "text/plain": [
       "[array([[-0.96683328,  0.2835481 ],\n",
       "        [ 0.9882057 ,  0.1065518 ],\n",
       "        [ 0.57472258, -0.41217302]]),\n",
       " array([[ 1.27865487],\n",
       "        [-0.64427366]])]"
      ]
     },
     "execution_count": 4,
     "metadata": {},
     "output_type": "execute_result"
    }
   ],
   "source": [
    "model.coefs_"
   ]
  },
  {
   "cell_type": "code",
   "execution_count": 174,
   "metadata": {},
   "outputs": [
    {
     "data": {
      "text/plain": [
       "1"
      ]
     },
     "execution_count": 174,
     "metadata": {},
     "output_type": "execute_result"
    }
   ],
   "source": [
    "model.n_outputs_"
   ]
  },
  {
   "cell_type": "code",
   "execution_count": 5,
   "metadata": {},
   "outputs": [
    {
     "data": {
      "text/plain": [
       "[array([-0.33765812, -0.89853701]), array([1.22110526])]"
      ]
     },
     "execution_count": 5,
     "metadata": {},
     "output_type": "execute_result"
    }
   ],
   "source": [
    "model.intercepts_\n"
   ]
  },
  {
   "cell_type": "code",
   "execution_count": 6,
   "metadata": {},
   "outputs": [],
   "source": [
    "class ConvertDNN2logic:\n",
    "    \n",
    "    def __init__(self, image_data=False):\n",
    "        with open('param_dict.csv') as csv_file:\n",
    "            reader = cv.reader(csv_file)\n",
    "            self.paramDict = dict(reader) \n",
    "        if self.paramDict['multi_label'] == 'True':\n",
    "            self.dnn = load('Model/dnn_model_multi.joblib') \n",
    "        else:\n",
    "            self.dnn = load('Model/dnn_model.joblib')\n",
    "        self.df = pd.read_csv('Oracle.csv')\n",
    "        self.no_of_params = int(self.paramDict['no_of_params'])    \n",
    "        self.no_of_hidden_layer = len(self.dnn.coefs_) -1\n",
    "        self.num_weight_vector = len(self.dnn.coefs_)\n",
    "        #self.no_of_layer = len(self.dnn.linears)\n",
    "        self.no_of_class = self.dnn.n_outputs_\n",
    "        \n",
    "        \n",
    "    def remove_exponent(self, value):\n",
    "        if 'e-' in value:\n",
    "            decial = value.split('e')\n",
    "            ret_val = format(((float(decial[0]))*(10**int(decial[1]))), '.5f')\n",
    "            return ret_val\n",
    "        else: \n",
    "            return value\n",
    "\n",
    "    def funcDNN2logic(self):\n",
    "        with open('feNameType.csv') as csv_file:\n",
    "            reader = cv.reader(csv_file)\n",
    "            feName_type = dict(reader)\n",
    "        f=open('DNNSmt1.smt2', 'w')\n",
    "        f.write(';Input layer neurons \\n')\n",
    "        for i in range(0, self.no_of_params):\n",
    "            f.write(';-----------'+str(i)+'th parameter----------------- \\n')\n",
    "            #Initializing input features\n",
    "            for j in range(0, self.dnn.n_features_in_):\n",
    "                f.write('(declare-fun '+self.df.columns.values[j]+str(i)+' ()')\n",
    "                if('int' in str(self.df.dtypes[j])):\n",
    "                    f.write(' Int) \\n')\n",
    "                else:\n",
    "                    f.write(' Real) \\n')\n",
    "                #f.write('(assert (and (>= '+self.df.columns.values[j]+str(i)+' 0) (<= '+self.df.columns.values[j]+str(i)\n",
    "                #    +' 1))) \\n')\n",
    "                \n",
    "                            \n",
    "            #Initializing hidden layer neurons\n",
    "            for j in range(0, self.num_weight_vector-1):\n",
    "                for k in range(0, len(self.dnn.coefs_[j][0])):\n",
    "                    f.write('(declare-fun nron'+str(j)+str(k)+str(i)+' () Real) \\n')\n",
    "                    f.write('(declare-fun tmp'+str(j)+str(k)+str(i)+' () Real) \\n')\n",
    "            #Initializing output neurons\n",
    "            for j in range(0, self.no_of_class):\n",
    "                f.write('(declare-fun y'+str(j)+str(i)+' () Real) \\n')\n",
    "                f.write('(declare-fun tmp'+str(self.no_of_hidden_layer)+str(j)+str(i)+' () Real) \\n')\n",
    "            #Initializing extra variables needed for encoding argmax \n",
    "            '''\n",
    "            for j in range(0, self.no_of_class):\n",
    "                for k in range(0, self.no_of_class):\n",
    "                    f.write('(declare-fun d'+str(j)+str(k)+str(i)+' () Int) \\n')\n",
    "            '''\n",
    "            if(self.paramDict['multi_label'] == 'FALSE'):\n",
    "                if self.paramDict['regression'] == 'no':\n",
    "                    f.write('(declare-fun Class'+str(i)+' () Int) \\n')\n",
    "                else:\n",
    "                    f.write('(declare-fun Class' + str(i) + ' () Real) \\n')\n",
    "                    #f.write('(assert (and (>= Class'+str(i)+' 0) (<= Class'+str(i)+' 1))) \\n')\n",
    "\n",
    "            else:\n",
    "                for j in range(0, self.no_of_class):\n",
    "                    class_name = self.df.columns.values[self.df.shape[1]-self.no_of_class+j]\n",
    "                    f.write('(declare-fun '+class_name+str(i)+' () Int) \\n')\n",
    "                    f.write('(assert (and (>= '+class_name+str(i)+' 0) (<= '+class_name+str(i)+' 1))) \\n')\n",
    "    \n",
    "        f.write('(define-fun absoluteInt ((x Int)) Int \\n')\n",
    "        f.write('  (ite (>= x 0) x (- x))) \\n')\n",
    "        f.write('(define-fun absoluteReal ((x Real)) Real \\n')\n",
    "        f.write('  (ite (>= x 0) x (- x))) \\n')  \n",
    "\n",
    "    \n",
    "        for i in range(0, self.no_of_params):\n",
    "            f.write(';-----------'+str(i)+'th parameter----------------- \\n')\n",
    "            f.write('\\n ;Encoding the hidden layer neurons \\n')\n",
    "            for j in range(0, self.no_of_hidden_layer):\n",
    "                for k in range(0, len(self.dnn.coefs_[j][0])):\n",
    "                    f.write('(assert (= ')\n",
    "                    f.write('tmp'+str(j)+str(k)+str(i)+' (+')\n",
    "                    for l in range(0, len(self.dnn.coefs_[j])):\n",
    "                        #temp_val = round(float(self.dnn.linears[j].weight[k][l]), 5)\n",
    "                        temp_val = format(self.dnn.coefs_[j][l][k], '.5f')\n",
    "                        if('e' in str(temp_val)):\n",
    "                            temp_val = self.remove_exponent(str(temp_val))\n",
    "                        if j == 0:\n",
    "                            f.write('(* '+self.df.columns.values[l]+str(i)+' '+str(temp_val)+')')\n",
    "                        else:\n",
    "                            f.write('(* nron'+str(j)+str(k)+str(i)+' '+str(temp_val)+')')\n",
    "                    #temp_bias = round(float(self.dnn.linears[j].bias[k]), 5)\n",
    "                    temp_bias = format(self.dnn.intercepts_[j][k], '.5f')\n",
    "                    if('e' in str(temp_bias)):\n",
    "                        temp_bias = self.remove_exponent(str(temp_bias))\n",
    "                    f.write(str(temp_bias)+'))) \\n')\n",
    "\n",
    "                    f.write('(assert (=> (> tmp'+str(j)+str(k)+str(i)+' 0) (= nron'+str(j)+str(k)+str(i)+\n",
    "                           ' tmp'+str(j)+str(k)+str(i)+'))) \\n')\n",
    "                    f.write('(assert (=> (<= tmp'+str(j)+str(k)+str(i)+' 0) (= nron'+str(j)+str(k)+str(i)+\n",
    "                           ' 0))) \\n')\n",
    "            \n",
    "            f.write('\\n ;Encoding the output layer neuron \\n')           \n",
    "            for j in range(0, self.dnn.n_outputs_):\n",
    "                f.write('(assert (= tmp'+str(self.no_of_hidden_layer)+str(j)+str(i)+' (+ ')\n",
    "                for k in range(0, len(self.dnn.coefs_[self.no_of_hidden_layer-1][0])):\n",
    "                    #temp_val = round(float( self.dnn.linears[self.no_of_layer-1].weight[j][k]), 5)\n",
    "                    temp_val = format(self.dnn.coefs_[self.no_of_hidden_layer][k][j], '.5f')\n",
    "                    if('e' in str(temp_val)):\n",
    "                        temp_val = self.remove_exponent(str(temp_val))\n",
    "                    f.write('(* nron'+str(self.no_of_hidden_layer-1)+str(k)+str(i)+' '+str(temp_val)+')')\n",
    "                #temp_bias = round(float(self.dnn.linears[self.no_of_layer-1].bias[j]), 5)\n",
    "                temp_bias = format(self.dnn.intercepts_[self.no_of_hidden_layer][j], '.5f')\n",
    "                if('e' in str(temp_bias)):\n",
    "                    temp_bias = self.remove_exponent(str(temp_bias))\n",
    "                f.write(' '+str(temp_bias)+'))) \\n')\n",
    "                f.write('(assert (= y'+str(j)+str(i)+\n",
    "                           ' tmp'+str(self.no_of_hidden_layer)+str(j)+str(i)+')) \\n')\n",
    "            f.write('(assert (= Class'+str(i)+' y0'+str(i)+'))\\n')   \n",
    "                          \n",
    "           \n",
    "        f.write('(assert (= Class0 1))\\n')\n",
    "        f.write('(check-sat) \\n(get-model)\\n')\n",
    "        f.close()\n",
    "        "
   ]
  },
  {
   "cell_type": "code",
   "execution_count": 7,
   "metadata": {},
   "outputs": [],
   "source": [
    "dnn2logic = ConvertDNN2logic()\n",
    "dnn2logic.funcDNN2logic()"
   ]
  },
  {
   "cell_type": "code",
   "execution_count": 31,
   "metadata": {},
   "outputs": [
    {
     "data": {
      "text/plain": [
       "4"
      ]
     },
     "execution_count": 31,
     "metadata": {},
     "output_type": "execute_result"
    }
   ],
   "source": [
    "model.n_features_in_"
   ]
  },
  {
   "cell_type": "code",
   "execution_count": 86,
   "metadata": {},
   "outputs": [],
   "source": [
    "with open('param_dict.csv') as csv_file:\n",
    "    reader = cv.reader(csv_file)\n",
    "    paramDict = dict(reader)"
   ]
  },
  {
   "cell_type": "code",
   "execution_count": null,
   "metadata": {},
   "outputs": [],
   "source": []
  },
  {
   "cell_type": "code",
   "execution_count": 83,
   "metadata": {},
   "outputs": [],
   "source": [
    "df = pd.read_csv('param_dict.csv')"
   ]
  },
  {
   "cell_type": "code",
   "execution_count": 84,
   "metadata": {},
   "outputs": [],
   "source": [
    "df.to_csv('param_dict.csv', index=False, header=True)"
   ]
  },
  {
   "cell_type": "code",
   "execution_count": 85,
   "metadata": {},
   "outputs": [
    {
     "data": {
      "text/html": [
       "<div>\n",
       "<style scoped>\n",
       "    .dataframe tbody tr th:only-of-type {\n",
       "        vertical-align: middle;\n",
       "    }\n",
       "\n",
       "    .dataframe tbody tr th {\n",
       "        vertical-align: top;\n",
       "    }\n",
       "\n",
       "    .dataframe thead th {\n",
       "        text-align: right;\n",
       "    }\n",
       "</style>\n",
       "<table border=\"1\" class=\"dataframe\">\n",
       "  <thead>\n",
       "    <tr style=\"text-align: right;\">\n",
       "      <th></th>\n",
       "      <th>max_samples</th>\n",
       "      <th>1000</th>\n",
       "    </tr>\n",
       "  </thead>\n",
       "  <tbody>\n",
       "    <tr>\n",
       "      <th>0</th>\n",
       "      <td>regression</td>\n",
       "      <td>no</td>\n",
       "    </tr>\n",
       "    <tr>\n",
       "      <th>1</th>\n",
       "      <td>bound_cex</td>\n",
       "      <td>no</td>\n",
       "    </tr>\n",
       "    <tr>\n",
       "      <th>2</th>\n",
       "      <td>upper_bound</td>\n",
       "      <td>1</td>\n",
       "    </tr>\n",
       "    <tr>\n",
       "      <th>3</th>\n",
       "      <td>lower_bound</td>\n",
       "      <td>0</td>\n",
       "    </tr>\n",
       "    <tr>\n",
       "      <th>4</th>\n",
       "      <td>assumeData</td>\n",
       "      <td>50</td>\n",
       "    </tr>\n",
       "    <tr>\n",
       "      <th>5</th>\n",
       "      <td>deadlines</td>\n",
       "      <td>1000</td>\n",
       "    </tr>\n",
       "    <tr>\n",
       "      <th>6</th>\n",
       "      <td>white_box_model</td>\n",
       "      <td>Decision tree</td>\n",
       "    </tr>\n",
       "    <tr>\n",
       "      <th>7</th>\n",
       "      <td>no_EPOCHS</td>\n",
       "      <td>50</td>\n",
       "    </tr>\n",
       "    <tr>\n",
       "      <th>8</th>\n",
       "      <td>no_of_params</td>\n",
       "      <td>2</td>\n",
       "    </tr>\n",
       "    <tr>\n",
       "      <th>9</th>\n",
       "      <td>mul_cex_opt</td>\n",
       "      <td>FALSE</td>\n",
       "    </tr>\n",
       "    <tr>\n",
       "      <th>10</th>\n",
       "      <td>multi_label</td>\n",
       "      <td>FALSE</td>\n",
       "    </tr>\n",
       "    <tr>\n",
       "      <th>11</th>\n",
       "      <td>xml_file</td>\n",
       "      <td>dataInput.xml</td>\n",
       "    </tr>\n",
       "    <tr>\n",
       "      <th>12</th>\n",
       "      <td>model_type</td>\n",
       "      <td>sklearn</td>\n",
       "    </tr>\n",
       "    <tr>\n",
       "      <th>13</th>\n",
       "      <td>no_of_train</td>\n",
       "      <td>1000</td>\n",
       "    </tr>\n",
       "    <tr>\n",
       "      <th>14</th>\n",
       "      <td>train_data_available</td>\n",
       "      <td>FALSE</td>\n",
       "    </tr>\n",
       "    <tr>\n",
       "      <th>15</th>\n",
       "      <td>train_data_loc</td>\n",
       "      <td>NaN</td>\n",
       "    </tr>\n",
       "  </tbody>\n",
       "</table>\n",
       "</div>"
      ],
      "text/plain": [
       "             max_samples           1000\n",
       "0             regression             no\n",
       "1              bound_cex             no\n",
       "2            upper_bound              1\n",
       "3            lower_bound              0\n",
       "4             assumeData             50\n",
       "5              deadlines           1000\n",
       "6        white_box_model  Decision tree\n",
       "7              no_EPOCHS             50\n",
       "8           no_of_params              2\n",
       "9            mul_cex_opt          FALSE\n",
       "10           multi_label          FALSE\n",
       "11              xml_file  dataInput.xml\n",
       "12            model_type        sklearn\n",
       "13           no_of_train           1000\n",
       "14  train_data_available          FALSE\n",
       "15        train_data_loc            NaN"
      ]
     },
     "execution_count": 85,
     "metadata": {},
     "output_type": "execute_result"
    }
   ],
   "source": [
    "df"
   ]
  },
  {
   "cell_type": "code",
   "execution_count": 150,
   "metadata": {},
   "outputs": [
    {
     "data": {
      "text/plain": [
       "-0.44896798000000004"
      ]
     },
     "execution_count": 150,
     "metadata": {},
     "output_type": "execute_result"
    }
   ],
   "source": [
    "-0.6483+0.744-0.10489+0.6888-1.12857798"
   ]
  },
  {
   "cell_type": "code",
   "execution_count": 161,
   "metadata": {},
   "outputs": [
    {
     "data": {
      "text/plain": [
       "0.40942563159841006"
      ]
     },
     "execution_count": 161,
     "metadata": {},
     "output_type": "execute_result"
    }
   ],
   "source": [
    "exp(-0.893)"
   ]
  },
  {
   "cell_type": "code",
   "execution_count": 158,
   "metadata": {},
   "outputs": [
    {
     "data": {
      "text/plain": [
       "3.0156120231961756"
      ]
     },
     "execution_count": 158,
     "metadata": {},
     "output_type": "execute_result"
    }
   ],
   "source": [
    "exp(-1.2417)+ exp(-0.893) + exp(0.8404)"
   ]
  },
  {
   "cell_type": "code",
   "execution_count": 162,
   "metadata": {},
   "outputs": [
    {
     "data": {
      "text/plain": [
       "0.13576026077642664"
      ]
     },
     "execution_count": 162,
     "metadata": {},
     "output_type": "execute_result"
    }
   ],
   "source": [
    "0.4094/3.01561"
   ]
  },
  {
   "cell_type": "code",
   "execution_count": 181,
   "metadata": {},
   "outputs": [
    {
     "data": {
      "text/plain": [
       "0.1890915754"
      ]
     },
     "execution_count": 181,
     "metadata": {},
     "output_type": "execute_result"
    }
   ],
   "source": [
    "945457877.0/5000000000.0"
   ]
  },
  {
   "cell_type": "code",
   "execution_count": null,
   "metadata": {},
   "outputs": [],
   "source": [
    "array[]"
   ]
  }
 ],
 "metadata": {
  "kernelspec": {
   "display_name": "Python 3 (ipykernel)",
   "language": "python",
   "name": "python3"
  },
  "language_info": {
   "codemirror_mode": {
    "name": "ipython",
    "version": 3
   },
   "file_extension": ".py",
   "mimetype": "text/x-python",
   "name": "python",
   "nbconvert_exporter": "python",
   "pygments_lexer": "ipython3",
   "version": "3.9.7"
  }
 },
 "nbformat": 4,
 "nbformat_minor": 4
}
